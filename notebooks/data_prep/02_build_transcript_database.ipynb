{
 "cells": [
  {
   "cell_type": "markdown",
   "id": "95ce196b",
   "metadata": {},
   "source": [
    "# Building the Transcript Database\n",
    "\n",
    "We want to build a database to categorize all the transcripts available. We want to capture the campaign, arc, and episode information as much as possible so that we have that metadata in the future."
   ]
  },
  {
   "cell_type": "code",
   "execution_count": 1,
   "id": "2e845829",
   "metadata": {},
   "outputs": [],
   "source": [
    "from bs4 import BeautifulSoup\n",
    "\n",
    "import urllib\n",
    "import urllib.request"
   ]
  },
  {
   "cell_type": "code",
   "execution_count": 2,
   "id": "55234f28",
   "metadata": {},
   "outputs": [],
   "source": [
    "transcripts_url = 'https://criticalrole.fandom.com/wiki/Transcripts'\n",
    "\n",
    "with urllib.request.urlopen(transcripts_url) as response:\n",
    "  html = response.read()\n",
    "\n",
    "transcripts = BeautifulSoup(html, 'html.parser')"
   ]
  },
  {
   "cell_type": "code",
   "execution_count": 7,
   "id": "9d79cf73",
   "metadata": {},
   "outputs": [
    {
     "data": {
      "text/plain": [
       "[<span class=\"mw-headline\" id=\"Campaign_1:_Vox_Machina\"><b><a class=\"mw-redirect\" href=\"/wiki/The_Campaign_of_Vox_Machina\" title=\"The Campaign of Vox Machina\">Campaign 1: Vox Machina</a></b></span>,\n",
       " <span class=\"mw-headline\" id=\"Arc_1:_Kraghammer_and_Vasselheim\"><b><a class=\"mw-redirect\" href=\"/wiki/Arc_1:_Kraghammer_and_Vasselheim\" title=\"Arc 1: Kraghammer and Vasselheim\">Arc 1: Kraghammer and Vasselheim</a></b></span>,\n",
       " <span class=\"mw-headline\" id=\"Arc_2:_The_Briarwoods\"><b><a class=\"mw-redirect\" href=\"/wiki/Arc_2:_The_Briarwoods\" title=\"Arc 2: The Briarwoods\">Arc 2: The Briarwoods</a></b></span>,\n",
       " <span class=\"mw-headline\" id=\"Arc_3:_The_Chroma_Conclave\"><b><a class=\"mw-redirect\" href=\"/wiki/Arc_3:_The_Chroma_Conclave\" title=\"Arc 3: The Chroma Conclave\">Arc 3: The Chroma Conclave</a></b></span>,\n",
       " <span class=\"mw-headline\" id=\"Arc_4:_Taryon_Darrington\"><b><a class=\"mw-redirect\" href=\"/wiki/Arc_4:_Taryon_Darrington\" title=\"Arc 4: Taryon Darrington\">Arc 4: Taryon Darrington</a></b></span>,\n",
       " <span class=\"mw-headline\" id=\"Arc_5:_Vecna\"><b><a class=\"mw-redirect\" href=\"/wiki/Arc_5:_Vecna\" title=\"Arc 5: Vecna\">Arc 5: Vecna</a></b></span>,\n",
       " <span class=\"mw-headline\" id=\"Campaign_2:_The_Mighty_Nein\"><b><a class=\"mw-redirect\" href=\"/wiki/Campaign_2:_The_Mighty_Nein\" title=\"Campaign 2: The Mighty Nein\">Campaign 2: The Mighty Nein</a></b></span>,\n",
       " <span class=\"mw-headline\" id=\"Arc_1:_Come_Together\"><b><a class=\"mw-redirect\" href=\"/wiki/Arc_1:_Come_Together\" title=\"Arc 1: Come Together\">Arc 1: Come Together</a></b></span>,\n",
       " <span class=\"mw-headline\" id=\"Arc_2:_The_Bad_Guys\"><b><a class=\"mw-redirect\" href=\"/wiki/Arc_2:_The_Bad_Guys\" title=\"Arc 2: The Bad Guys\">Arc 2: The Bad Guys</a></b></span>,\n",
       " <span class=\"mw-headline\" id=\"Arc_3:_The_Bright_Queen's_Favor\"><b><a class=\"mw-redirect\" href=\"/wiki/Arc_3:_The_Bright_Queen%27s_Favor\" title=\"Arc 3: The Bright Queen's Favor\">Arc 3: The Bright Queen's Favor</a></b></span>,\n",
       " <span class=\"mw-headline\" id=\"Arc_4:_Swords_and_Angels\"><b><a class=\"mw-redirect\" href=\"/wiki/Arc_4:_Swords_and_Angels\" title=\"Arc 4: Swords and Angels\">Arc 4: Swords and Angels</a></b></span>,\n",
       " <span class=\"mw-headline\" id=\"Arc_5:_Family_Ties\"><b><a class=\"mw-redirect\" href=\"/wiki/Arc_5:_Family_Ties\" title=\"Arc 5: Family Ties\">Arc 5: Family Ties</a></b></span>,\n",
       " <span class=\"mw-headline\" id=\"Arc_6:_Weird_Magic\"><b><a class=\"mw-redirect\" href=\"/wiki/Arc_6:_Weird_Magic\" title=\"Arc 6: Weird Magic\">Arc 6: Weird Magic</a></b></span>,\n",
       " <span class=\"mw-headline\" id=\"Campaign_Three:_Bells_Hells\"><b><a href=\"/wiki/Campaign_Three:_Bells_Hells\" title=\"Campaign Three: Bells Hells\">Campaign Three: Bells Hells</a></b></span>,\n",
       " <span class=\"mw-headline\" id=\"Arc_1:_Jrusar\"><b><a class=\"mw-redirect\" href=\"/wiki/Campaign_Three_Arc_1\" title=\"Campaign Three Arc 1\">Arc 1: Jrusar</a></b></span>,\n",
       " <span class=\"mw-headline\" id=\"Arc_2:_Ruidus_Rising\"><b><a class=\"mw-redirect\" href=\"/wiki/Campaign_Three_Arc_2\" title=\"Campaign Three Arc 2\">Arc 2: Ruidus Rising</a></b></span>,\n",
       " <span class=\"mw-headline\" id=\"Arc_3:_Separations_and_Explorations\"><b><a class=\"mw-redirect\" href=\"/wiki/Campaign_Three_Arc_3\" title=\"Campaign Three Arc 3\">Arc 3: Separations and Explorations</a></b></span>,\n",
       " <span class=\"mw-headline\" id=\"Campaign_Three_Arc_4\"><b><a href=\"/wiki/Campaign_Three_Arc_4\" title=\"Campaign Three Arc 4\">Campaign Three Arc 4</a></b></span>,\n",
       " <span class=\"mw-headline\" id=\"Exandria_Unlimited\"><b><a href=\"/wiki/Exandria_Unlimited\" title=\"Exandria Unlimited\">Exandria Unlimited</a></b></span>,\n",
       " <span class=\"mw-headline\" id=\"Specials\"><b><a href=\"/wiki/Specials\" title=\"Specials\">Specials</a></b></span>,\n",
       " <span class=\"mw-headline\" id=\"Miscellaneous\"><b>Miscellaneous</b></span>,\n",
       " <span class=\"mw-headline\" id=\"Candela_Obscura\"><b>Candela Obscura</b></span>,\n",
       " <span class=\"mw-headline\" id=\"Narrative_Telephone\"><b>Narrative Telephone</b></span>,\n",
       " <span class=\"mw-headline\" id=\"Undeadwood\"><b>Undeadwood</b></span>,\n",
       " <span class=\"mw-headline\" id=\"Talks_Machina\"><b>Talks Machina</b></span>,\n",
       " <span class=\"mw-headline\" id=\"Miscellaneous_2\"><b>Miscellaneous</b></span>,\n",
       " <span class=\"mw-headline\" id=\"References\"><b>References</b></span>]"
      ]
     },
     "execution_count": 7,
     "metadata": {},
     "output_type": "execute_result"
    }
   ],
   "source": [
    "main_div = transcripts.find_all('div', {'class': 'mw-parser-output'})[0]"
   ]
  },
  {
   "cell_type": "code",
   "execution_count": 16,
   "id": "926198e5",
   "metadata": {},
   "outputs": [
    {
     "name": "stdout",
     "output_type": "stream",
     "text": [
      "p\n",
      "Transcripts of episodes of Critical Role. Transcripts of the first campaign and the first 42 episodes of Campaign 2 were created by Critical Role Transcripts through \"Cornered\" (2x53), when captioning was taken over by Critical Role itself using a professional transcription service.[1]\n",
      "\n",
      "p\n",
      "Searchable transcripts that include timestamps and links to the relevant portions of the VODs are located at this fan-created site.\n",
      "\n",
      "None\n",
      "figure\n",
      "None\n",
      "div\n",
      "['toc']\n",
      "None\n",
      "h2\n",
      "Campaign 1: Vox Machina[]\n",
      "None\n",
      "div\n",
      "['mw-collapsible']\n",
      "None\n",
      "div\n",
      "['mw-collapsible']\n",
      "None\n",
      "div\n",
      "['mw-collapsible']\n",
      "None\n",
      "div\n",
      "['mw-collapsible']\n",
      "None\n",
      "div\n",
      "['mw-collapsible']\n",
      "None\n",
      "h2\n",
      "Campaign 2: The Mighty Nein[]\n",
      "None\n",
      "div\n",
      "['mw-collapsible']\n",
      "None\n",
      "div\n",
      "['mw-collapsible']\n",
      "None\n",
      "div\n",
      "['mw-collapsible']\n",
      "None\n",
      "div\n",
      "['mw-collapsible']\n",
      "None\n",
      "div\n",
      "['mw-collapsible']\n",
      "None\n",
      "div\n",
      "['mw-collapsible']\n",
      "None\n",
      "h2\n",
      "Campaign Three: Bells Hells[]\n",
      "None\n",
      "div\n",
      "['mw-collapsible']\n",
      "None\n",
      "div\n",
      "['mw-collapsible']\n",
      "None\n",
      "div\n",
      "['mw-collapsible']\n",
      "None\n",
      "div\n",
      "['mw-collapsible']\n",
      "None\n",
      "h2\n",
      "References[]\n",
      "None\n",
      "small\n",
      "None\n",
      "p\n",
      "Art:\n",
      "\n",
      "None\n",
      "small\n",
      "None\n",
      "None\n",
      "None\n",
      "None\n",
      "None\n",
      "None\n",
      "None\n"
     ]
    }
   ],
   "source": [
    "current_section = None\n",
    "sections = {}\n",
    "for child in main_div.children:\n",
    "    print(child.name)\n",
    "    match child.name:\n",
    "        case 'p' | 'h2':\n",
    "            print(child.text)\n",
    "        case 'div':\n",
    "            print(child['class'])"
   ]
  }
 ],
 "metadata": {
  "kernelspec": {
   "display_name": "Python 3 (ipykernel)",
   "language": "python",
   "name": "python3"
  },
  "language_info": {
   "codemirror_mode": {
    "name": "ipython",
    "version": 3
   },
   "file_extension": ".py",
   "mimetype": "text/x-python",
   "name": "python",
   "nbconvert_exporter": "python",
   "pygments_lexer": "ipython3",
   "version": "3.11.0"
  }
 },
 "nbformat": 4,
 "nbformat_minor": 5
}
